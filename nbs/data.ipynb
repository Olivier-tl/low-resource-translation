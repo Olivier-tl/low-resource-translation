{
 "cells": [
  {
   "cell_type": "code",
   "execution_count": 21,
   "metadata": {},
   "outputs": [],
   "source": [
    "import tensorflow as tf\n",
    "import numpy as np\n",
    "from pathlib import Path\n",
    "import matplotlib.pyplot as plt\n",
    "import re"
   ]
  },
  {
   "cell_type": "code",
   "execution_count": 2,
   "metadata": {},
   "outputs": [],
   "source": [
    "Path.ls = lambda x: list(x.iterdir())"
   ]
  },
  {
   "cell_type": "code",
   "execution_count": 3,
   "metadata": {},
   "outputs": [],
   "source": [
    "data_path = Path('/project/cq-training-1/project2/data')"
   ]
  },
  {
   "cell_type": "code",
   "execution_count": 4,
   "metadata": {},
   "outputs": [
    {
     "data": {
      "text/plain": [
       "[PosixPath('/project/cq-training-1/project2/data/unaligned.en'),\n",
       " PosixPath('/project/cq-training-1/project2/data/unaligned.fr'),\n",
       " PosixPath('/project/cq-training-1/project2/data/train.lang2'),\n",
       " PosixPath('/project/cq-training-1/project2/data/train.lang1')]"
      ]
     },
     "execution_count": 4,
     "metadata": {},
     "output_type": "execute_result"
    }
   ],
   "source": [
    "data_path.ls()"
   ]
  },
  {
   "cell_type": "code",
   "execution_count": 14,
   "metadata": {},
   "outputs": [],
   "source": [
    "with open(data_path/'train.lang1') as f:\n",
    "    eng_data = f.readlines()\n",
    "    \n",
    "with open(data_path/'train.lang2') as f:\n",
    "    fr_data = f.readlines()"
   ]
  },
  {
   "cell_type": "code",
   "execution_count": 15,
   "metadata": {},
   "outputs": [
    {
     "data": {
      "text/plain": [
       "(11000, 11000)"
      ]
     },
     "execution_count": 15,
     "metadata": {},
     "output_type": "execute_result"
    }
   ],
   "source": [
    "len(eng_data),len(fr_data)"
   ]
  },
  {
   "cell_type": "code",
   "execution_count": 16,
   "metadata": {},
   "outputs": [
    {
     "name": "stdout",
     "output_type": "stream",
     "text": [
      "and my father said ok listen\n",
      "Et mon pere a dit \" écoute\n",
      "\n",
      "i have to warn her\n",
      "Je dois l' avertir .\n",
      "\n",
      "i agree with the basic idea of creating a european framework for regulations on the organisation of working time\n",
      "Je partage l' idée de base de créer un cadre européen pour les réglementations en matière d' organisation du temps de travail .\n",
      "\n",
      "and no eu leader in his or her right mind could have any interest in that\n",
      "Et aucun chef de gouvernement sain d’ esprit ne peut trouver un intérêt à une telle issue .\n",
      "\n",
      "it seems to me to be good news in the fight against terrorism although the resolution of parliament does not say so that the formal extradition procedure for people who have been finally sentenced should be removed\n",
      "La suppression de la procédure formelle d' extradition pour les personnes qui ont fait l' objet d' une condamnation définitive est à mes yeux une bonne nouvelle pour la lutte contre le terrorisme , même si la résolution du Parlement ne le précise pas .\n",
      "\n"
     ]
    }
   ],
   "source": [
    "# Random print\n",
    "idx = np.random.choice(len(eng_data),size=5)\n",
    "for i in idx:\n",
    "    print(eng_data[i].rstrip())\n",
    "    print(fr_data[i])"
   ]
  },
  {
   "cell_type": "markdown",
   "metadata": {},
   "source": [
    "1) Remove spaces between number or numbers with ',' or '.' in between  \n",
    "2) Replace numbers with tokens  \n",
    "3) words begining with caps  \n",
    "4) words in caps  "
   ]
  },
  {
   "cell_type": "code",
   "execution_count": 9,
   "metadata": {},
   "outputs": [
    {
     "name": "stdout",
     "output_type": "stream",
     "text": [
      "so too does the idea that accommodating religious differences is dangerous\n",
      "L’ idée de concilier les différences religieuses semble donc dangereuse .\n",
      "\n",
      "mr president ladies and gentlemen the financial perspective outlines the scope of the eu ’s activities over coming years as well as providing a framework for such activities and determining how effective they will be\n",
      "Monsieur le Président , Mesdames et Messieurs , les perspectives financières esquissent la portée des activités de l’ UE pour les années à venir , fournissent un cadre pour ces activités et déterminent leur efficacité .\n",
      "\n",
      "reserve should turn into thought - provoking policy\n",
      "La réticence doit laisser place à une politique stimulante .\n",
      "\n",
      "it is my profound belief that we can only advance through cooperation and negotiation\n",
      "Je suis intimement convaincu que nous ne pourrons progresser que si nous coopérons et négocions .\n",
      "\n",
      "the european union has territorial waters greater than its entire territory with 1 200 ports and 90 % of its exports are transported by sea\n",
      "Le territoire marin de l' Union européenne est plus vaste que son territoire terrestre . On y dénombre 1 200 ports et 90 % de ses exportations sont acheminées par mer .\n",
      "\n",
      "ostensibly he 's dead now\n",
      "Apparemment , il est maintenant mort .\n",
      "\n",
      "but at the moment the priority - let us make this very clear - is what we have on the table the 2004 countries and those countries in principle bulgaria and rumania which should enter in 2007\n",
      "Cependant , pour le moment , la priorité -disons - le très nettement- est donnée au sujet actuellement sur la table : les pays candidats à l' adhésion en 2004 et les pays prévus pour 2007 , en principe la Bulgarie et la Roumanie .\n",
      "\n",
      "take note of the intention of parliament to limit to four years\n",
      "Prendre note de l’ intention du Parlement de limiter à quatre ans , ...\n",
      "\n",
      "a concerted approach to the challenges posed by mental health is very important and should be tackled with the same seriousness as physical health\n",
      "C' est pourquoi une réponse commune aux défis que représente la santé mentale est nécessaire et devrait être traitée avec le même sérieux que les problèmes de santé physique .\n",
      "\n",
      "we should then have the courage to achieve real new developments and move forward with the convention implementing the schengen agreement\n",
      "Nous devrions ainsi avoir le courage d' opérer de véritables changements dans cette convention d' application de l' accord de Schengen .\n",
      "\n",
      "regulation applying a scheme of generalised tariff preferences vote\n",
      "Règlement appliquant un schéma de préférences tarifaires généralisées ( vote )\n",
      "\n"
     ]
    }
   ],
   "source": [
    "for i,(eng,fr) in enumerate(zip(eng_data,fr_data)):\n",
    "    print(eng.strip())\n",
    "    print(fr)\n",
    "    if i == 10:\n",
    "        break"
   ]
  },
  {
   "cell_type": "code",
   "execution_count": 10,
   "metadata": {},
   "outputs": [
    {
     "data": {
      "text/plain": [
       "'Prendre note de l’ intention du Parlement de limiter à quatre ans , ...\\n'"
      ]
     },
     "execution_count": 10,
     "metadata": {},
     "output_type": "execute_result"
    }
   ],
   "source": [
    "fr_data[7]"
   ]
  },
  {
   "cell_type": "code",
   "execution_count": 11,
   "metadata": {},
   "outputs": [],
   "source": [
    "clean_eng = []\n",
    "clean_fr = []\n",
    "for i,(eng,fr) in enumerate(zip(eng_data,fr_data)):\n",
    "    clean_eng.append(eng.rstrip().split(\" \"))\n",
    "    clean_fr.append(fr.rstrip().split(\" \"))"
   ]
  },
  {
   "cell_type": "code",
   "execution_count": 12,
   "metadata": {},
   "outputs": [],
   "source": [
    "# eng_data = clean_eng\n",
    "# fr_data = clean_fr"
   ]
  },
  {
   "cell_type": "code",
   "execution_count": 17,
   "metadata": {},
   "outputs": [
    {
     "name": "stdout",
     "output_type": "stream",
     "text": [
      "so too does the idea that accommodating religious differences is dangerous\n",
      "L’ idée de concilier les différences religieuses semble donc dangereuse .\n",
      "\n",
      "mr president ladies and gentlemen the financial perspective outlines the scope of the eu ’s activities over coming years as well as providing a framework for such activities and determining how effective they will be\n",
      "Monsieur le Président , Mesdames et Messieurs , les perspectives financières esquissent la portée des activités de l’ UE pour les années à venir , fournissent un cadre pour ces activités et déterminent leur efficacité .\n",
      "\n",
      "reserve should turn into thought - provoking policy\n",
      "La réticence doit laisser place à une politique stimulante .\n",
      "\n",
      "it is my profound belief that we can only advance through cooperation and negotiation\n",
      "Je suis intimement convaincu que nous ne pourrons progresser que si nous coopérons et négocions .\n",
      "\n",
      "the european union has territorial waters greater than its entire territory with 1 200 ports and 90 % of its exports are transported by sea\n",
      "Le territoire marin de l' Union européenne est plus vaste que son territoire terrestre . On y dénombre 1 200 ports et 90 % de ses exportations sont acheminées par mer .\n",
      "\n",
      "ostensibly he 's dead now\n",
      "Apparemment , il est maintenant mort .\n",
      "\n",
      "but at the moment the priority - let us make this very clear - is what we have on the table the 2004 countries and those countries in principle bulgaria and rumania which should enter in 2007\n",
      "Cependant , pour le moment , la priorité -disons - le très nettement- est donnée au sujet actuellement sur la table : les pays candidats à l' adhésion en 2004 et les pays prévus pour 2007 , en principe la Bulgarie et la Roumanie .\n",
      "\n",
      "take note of the intention of parliament to limit to four years\n",
      "Prendre note de l’ intention du Parlement de limiter à quatre ans , ...\n",
      "\n",
      "a concerted approach to the challenges posed by mental health is very important and should be tackled with the same seriousness as physical health\n",
      "C' est pourquoi une réponse commune aux défis que représente la santé mentale est nécessaire et devrait être traitée avec le même sérieux que les problèmes de santé physique .\n",
      "\n",
      "we should then have the courage to achieve real new developments and move forward with the convention implementing the schengen agreement\n",
      "Nous devrions ainsi avoir le courage d' opérer de véritables changements dans cette convention d' application de l' accord de Schengen .\n",
      "\n",
      "regulation applying a scheme of generalised tariff preferences vote\n",
      "Règlement appliquant un schéma de préférences tarifaires généralisées ( vote )\n",
      "\n"
     ]
    }
   ],
   "source": [
    "for i,(eng,fr) in enumerate(zip(eng_data,fr_data)):\n",
    "    print(eng.rstrip())\n",
    "    print(fr)\n",
    "    if i == 10:\n",
    "        break"
   ]
  },
  {
   "cell_type": "code",
   "execution_count": 252,
   "metadata": {},
   "outputs": [],
   "source": [
    "eng_count,fr_count = [],[]\n",
    "for i,(eng,fr) in enumerate(zip(eng_data,fr_data)):\n",
    "    eng_count.append(len(eng.rstrip().split(\" \")))\n",
    "    fr_count.append(len(fr.rstrip().split(\" \"))) "
   ]
  },
  {
   "cell_type": "code",
   "execution_count": 253,
   "metadata": {},
   "outputs": [
    {
     "data": {
      "text/plain": [
       "(95, 112)"
      ]
     },
     "execution_count": 253,
     "metadata": {},
     "output_type": "execute_result"
    }
   ],
   "source": [
    "max(eng_count),max(fr_count)"
   ]
  },
  {
   "cell_type": "code",
   "execution_count": 258,
   "metadata": {},
   "outputs": [
    {
     "data": {
      "text/plain": [
       "38"
      ]
     },
     "execution_count": 258,
     "metadata": {},
     "output_type": "execute_result"
    }
   ],
   "source": [
    "(np.array(eng_count)>50).sum()"
   ]
  },
  {
   "cell_type": "code",
   "execution_count": 261,
   "metadata": {},
   "outputs": [
    {
     "data": {
      "text/plain": [
       "82"
      ]
     },
     "execution_count": 261,
     "metadata": {},
     "output_type": "execute_result"
    }
   ],
   "source": [
    "(np.array(fr_count)>50).sum()"
   ]
  },
  {
   "cell_type": "code",
   "execution_count": 255,
   "metadata": {},
   "outputs": [
    {
     "data": {
      "image/png": "[encoded data removed]",
      "text/plain": [
       "<Figure size 432x288 with 1 Axes>"
      ]
     },
     "metadata": {
      "needs_background": "light"
     },
     "output_type": "display_data"
    }
   ],
   "source": [
    "plt.hist(eng_count,bins=50)\n",
    "plt.show()"
   ]
  },
  {
   "cell_type": "code",
   "execution_count": 256,
   "metadata": {},
   "outputs": [
    {
     "data": {
      "image/png": "[encoded data removed]",
      "text/plain": [
       "<Figure size 432x288 with 1 Axes>"
      ]
     },
     "metadata": {
      "needs_background": "light"
     },
     "output_type": "display_data"
    }
   ],
   "source": [
    "plt.hist(fr_count,bins=50)\n",
    "plt.show()"
   ]
  },
  {
   "cell_type": "code",
   "execution_count": 141,
   "metadata": {},
   "outputs": [],
   "source": []
  },
  {
   "cell_type": "code",
   "execution_count": 142,
   "metadata": {},
   "outputs": [],
   "source": [
    "spec_tokens = [TK_MAJ,TK_UP]"
   ]
  },
  {
   "cell_type": "code",
   "execution_count": 143,
   "metadata": {},
   "outputs": [],
   "source": [
    "import collections"
   ]
  },
  {
   "cell_type": "code",
   "execution_count": 437,
   "metadata": {},
   "outputs": [],
   "source": [
    "class ExtraProcessing():\n",
    "    \n",
    "    def __init__(self):\n",
    "        self.BOS,self.EOS,self.TK_MAJ,self.TK_UP,self.TK_NUM = 'xxstart', 'xxend', 'xxmaj','xxup', 'xxnum'\n",
    "        \n",
    "    def regx(self,x):\n",
    "        # Remove space, comma or point  between numbers\n",
    "        x = re.sub(r\"(\\d+)[\\s+|,|.](\\d+)\",r\"\\1\\2\",x)\n",
    "        # enumerate for number tokens\n",
    "        numerate = lambda m, i=iter(range(10)):f\"{self.TK_NUM}_{str(next(i))}\"\n",
    "        # Replace numbers with TK_NUM\n",
    "        x = re.sub(\"\\d+\",numerate,x)\n",
    "        # Remove some punctuation\n",
    "        PUNCT = '#&\\()*+/<=>@[\\\\]^_{|}~'\n",
    "        table = str.maketrans(\"\",\"\",PUNCT)\n",
    "        x = x.translate(table)\n",
    "        x = re.sub(\"\\.\\.+\",\"\",x)\n",
    "        # Add space between '-' and words\n",
    "        x = re.sub(r\"(-)(\\w)\",r\"\\1 \\2\",x)\n",
    "        x = re.sub(r\"(\\w)(-)\",r\"\\1 \\2\",x)\n",
    "        # Remove unecessary space\n",
    "        x = re.sub(\"\\s\\s+\",\" \",x)\n",
    "        return x\n",
    "        \n",
    "    def start_end(self,x):\n",
    "        x.insert(0,self.BOS)\n",
    "        x.append(self.EOS)\n",
    "        return x\n",
    "        \n",
    "    def replace_all_caps(self,x):\n",
    "        \"Replace tokens in ALL CAPS in `x` by their lower version and add `TK_UP` before.\"\n",
    "        res = []\n",
    "        for t in x:\n",
    "            if t.isupper() and len(t) > 1: res.append(self.TK_UP); res.append(t.lower())\n",
    "            else: res.append(t)\n",
    "        return res\n",
    "\n",
    "    def deal_caps(self,x):\n",
    "        \"Replace all Capitalized tokens in `x` by their lower version and add `TK_MAJ` before.\"\n",
    "        res = []\n",
    "        for t in x:\n",
    "            if t == '': continue\n",
    "            if t[0].isupper() and len(t) > 1 and (t[1:].islower() or (t[1] == \"’\" or t[1] == \"'\" )): \n",
    "                res.append(self.TK_MAJ)\n",
    "            res.append(t.lower())\n",
    "        return res\n",
    "    \n",
    "    def process(self,x):\n",
    "        x = self.regx(x.strip())\n",
    "        x = x.split()\n",
    "        post = [self.deal_caps,self.replace_all_caps,self.start_end]\n",
    "        for p in post:\n",
    "            x = p(x)\n",
    "        return ' '.join(x)"
   ]
  },
  {
   "cell_type": "code",
   "execution_count": 438,
   "metadata": {},
   "outputs": [],
   "source": [
    "ex = ExtraProcessing()"
   ]
  },
  {
   "cell_type": "code",
   "execution_count": 427,
   "metadata": {},
   "outputs": [
    {
     "data": {
      "text/plain": [
       "'Règlement appliquant un schéma de préférences tarifaires généralisées ( vote )\\n'"
      ]
     },
     "execution_count": 427,
     "metadata": {},
     "output_type": "execute_result"
    }
   ],
   "source": [
    "fr_data[10]"
   ]
  },
  {
   "cell_type": "code",
   "execution_count": 428,
   "metadata": {},
   "outputs": [
    {
     "data": {
      "text/plain": [
       "'xxstart xxmaj règlement appliquant un schéma de préférences tarifaires généralisées vote xxend'"
      ]
     },
     "execution_count": 428,
     "metadata": {},
     "output_type": "execute_result"
    }
   ],
   "source": [
    "ex.process(fr_data[10])"
   ]
  },
  {
   "cell_type": "code",
   "execution_count": 429,
   "metadata": {},
   "outputs": [
    {
     "data": {
      "text/plain": [
       "'xxstart regulation applying a scheme of generalised tariff preferences vote xxend'"
      ]
     },
     "execution_count": 429,
     "metadata": {},
     "output_type": "execute_result"
    }
   ],
   "source": [
    "ex.process(eng_data[10])"
   ]
  },
  {
   "cell_type": "code",
   "execution_count": 439,
   "metadata": {},
   "outputs": [],
   "source": [
    "all_fr = []\n",
    "for fr_sent in fr_data:\n",
    "    all_fr.append(ex.process(fr_sent))"
   ]
  },
  {
   "cell_type": "code",
   "execution_count": 440,
   "metadata": {},
   "outputs": [
    {
     "data": {
      "text/plain": [
       "\"xxstart xxmaj j' estime dès lors qu' il est fondamental de soutenir et de compléter les amendements déposés par la commission des affaires économiques et monétaires , qui fournissent un cadre pertinent pour la proposition de la xxmaj commission . xxend\""
      ]
     },
     "execution_count": 440,
     "metadata": {},
     "output_type": "execute_result"
    }
   ],
   "source": []
  },
  {
   "cell_type": "code",
   "execution_count": 430,
   "metadata": {},
   "outputs": [],
   "source": [
    "for fr_sent in eng_data:\n",
    "    r = ex.process(fr_sent)"
   ]
  },
  {
   "cell_type": "code",
   "execution_count": 387,
   "metadata": {},
   "outputs": [
    {
     "data": {
      "text/plain": [
       "'xxstart i agree that we need an ambitious social agenda which will include combating poverty and social exclusion xxend'"
      ]
     },
     "execution_count": 387,
     "metadata": {},
     "output_type": "execute_result"
    }
   ],
   "source": [
    "r"
   ]
  },
  {
   "cell_type": "code",
   "execution_count": 381,
   "metadata": {},
   "outputs": [
    {
     "data": {
      "text/plain": [
       "'xxstart but at the moment the priority - let us make this very clear - is what we have on the table the xxnum0 countries and those countries in principle bulgaria and rumania which should enter in xxnum1 xxend'"
      ]
     },
     "execution_count": 381,
     "metadata": {},
     "output_type": "execute_result"
    }
   ],
   "source": [
    "ex.process(eng_data[6])"
   ]
  },
  {
   "cell_type": "code",
   "execution_count": 383,
   "metadata": {},
   "outputs": [
    {
     "name": "stdout",
     "output_type": "stream",
     "text": [
      "but at the moment the priority - let us make this very clear - is what we have on the table the 2004 countries and those countries in principle bulgaria and rumania which should enter in 2007\n",
      "\n",
      "Cependant , pour le moment , la priorité -disons - le très nettement- est donnée au sujet actuellement sur la table : les pays candidats à l' adhésion en 2004 et les pays prévus pour 2007 , en principe la Bulgarie et la Roumanie .\n",
      "\n"
     ]
    }
   ],
   "source": [
    "print(eng_data[6])\n",
    "print(fr_data[6])"
   ]
  },
  {
   "cell_type": "code",
   "execution_count": 441,
   "metadata": {},
   "outputs": [
    {
     "data": {
      "text/plain": [
       "'Règlement appliquant un schéma de préférences tarifaires généralisées ( vote )\\n'"
      ]
     },
     "execution_count": 441,
     "metadata": {},
     "output_type": "execute_result"
    }
   ],
   "source": []
  },
  {
   "cell_type": "code",
   "execution_count": 221,
   "metadata": {},
   "outputs": [],
   "source": [
    "x = re.sub(\"\\s\\s+\",\" \",fr_data[6])"
   ]
  },
  {
   "cell_type": "code",
   "execution_count": 222,
   "metadata": {},
   "outputs": [
    {
     "data": {
      "text/plain": [
       "\"Cependant , pour le moment , la priorité -disons - le très nettement- est donnée au sujet actuellement sur la table : les pays candidats à l' adhésion en 2004 et les pays prévus pour 2007 , en principe la Bulgarie et la Roumanie .\\n\""
      ]
     },
     "execution_count": 222,
     "metadata": {},
     "output_type": "execute_result"
    }
   ],
   "source": [
    "x"
   ]
  },
  {
   "cell_type": "code",
   "execution_count": 183,
   "metadata": {},
   "outputs": [
    {
     "data": {
      "text/plain": [
       "\"Cependant , pour le moment , la priorité - disons - le très nettement- est donnée au sujet actuellement sur la table : les pays candidats à l' adhésion en 2004 et les pays prévus pour 2007 , en principe la Bulgarie et la Roumanie .\\n\""
      ]
     },
     "execution_count": 183,
     "metadata": {},
     "output_type": "execute_result"
    }
   ],
   "source": [
    "x = re.sub(r\"(-)(\\w)\",r\"\\1 \\2\",fr_data[6])\n",
    "x"
   ]
  },
  {
   "cell_type": "code",
   "execution_count": 188,
   "metadata": {},
   "outputs": [
    {
     "data": {
      "text/plain": [
       "\"Cependant , pour le moment , la priorité - disons - le très nettement - est donnée au sujet actuellement sur la table : les pays candidats à l' adhésion en 2004 et les pays prévus pour 2007 , en principe la Bulgarie et la Roumanie .\\n\""
      ]
     },
     "execution_count": 188,
     "metadata": {},
     "output_type": "execute_result"
    }
   ],
   "source": [
    "x = re.sub(r\"\\s\\s+\",r\"\",x)\n",
    "x"
   ]
  },
  {
   "cell_type": "code",
   "execution_count": 185,
   "metadata": {},
   "outputs": [
    {
     "data": {
      "text/plain": [
       "\"Cependant , pour le moment , la priorité -disons - le très nettement- est donnée au sujet actuellement sur la table : les pays candidats à l' adhésion en 2004 et les pays prévus pour 2007 , en principe la Bulgarie et la Roumanie .\\n\""
      ]
     },
     "execution_count": 185,
     "metadata": {},
     "output_type": "execute_result"
    }
   ],
   "source": [
    "fr_data[6]"
   ]
  },
  {
   "cell_type": "code",
   "execution_count": 411,
   "metadata": {},
   "outputs": [],
   "source": [
    "tt = \"I have 1,200 votes compared to 1 100 of your own and 9.5%of his\""
   ]
  },
  {
   "cell_type": "code",
   "execution_count": null,
   "metadata": {},
   "outputs": [],
   "source": []
  }
 ],
 "metadata": {
  "kernelspec": {
   "display_name": "gpu-env",
   "language": "python",
   "name": "gpu-env"
  },
  "language_info": {
   "codemirror_mode": {
    "name": "ipython",
    "version": 3
   },
   "file_extension": ".py",
   "mimetype": "text/x-python",
   "name": "python",
   "nbconvert_exporter": "python",
   "pygments_lexer": "ipython3",
   "version": "3.7.4"
  }
 },
 "nbformat": 4,
 "nbformat_minor": 4
}
