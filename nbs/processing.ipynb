{
 "cells": [
  {
   "cell_type": "code",
   "execution_count": 21,
   "metadata": {},
   "outputs": [],
   "source": [
    "import tensorflow as tf\n",
    "import numpy as np\n",
    "from pathlib import Path\n",
    "import matplotlib.pyplot as plt\n",
    "import re"
   ]
  },
  {
   "cell_type": "code",
   "execution_count": 2,
   "metadata": {},
   "outputs": [],
   "source": [
    "Path.ls = lambda x: list(x.iterdir())"
   ]
  },
  {
   "cell_type": "code",
   "execution_count": 3,
   "metadata": {},
   "outputs": [],
   "source": [
    "data_path = Path('/project/cq-training-1/project2/data')"
   ]
  },
  {
   "cell_type": "code",
   "execution_count": 4,
   "metadata": {},
   "outputs": [
    {
     "data": {
      "text/plain": [
       "[PosixPath('/project/cq-training-1/project2/data/unaligned.en'),\n",
       " PosixPath('/project/cq-training-1/project2/data/unaligned.fr'),\n",
       " PosixPath('/project/cq-training-1/project2/data/train.lang2'),\n",
       " PosixPath('/project/cq-training-1/project2/data/train.lang1')]"
      ]
     },
     "execution_count": 4,
     "metadata": {},
     "output_type": "execute_result"
    }
   ],
   "source": [
    "data_path.ls()"
   ]
  },
  {
   "cell_type": "code",
   "execution_count": 14,
   "metadata": {},
   "outputs": [],
   "source": [
    "with open(data_path/'train.lang1') as f:\n",
    "    eng_data = f.readlines()\n",
    "    \n",
    "with open(data_path/'train.lang2') as f:\n",
    "    fr_data = f.readlines()"
   ]
  },
  {
   "cell_type": "code",
   "execution_count": 15,
   "metadata": {},
   "outputs": [
    {
     "data": {
      "text/plain": [
       "(11000, 11000)"
      ]
     },
     "execution_count": 15,
     "metadata": {},
     "output_type": "execute_result"
    }
   ],
   "source": [
    "len(eng_data),len(fr_data)"
   ]
  },
  {
   "cell_type": "code",
   "execution_count": 443,
   "metadata": {},
   "outputs": [
    {
     "name": "stdout",
     "output_type": "stream",
     "text": [
      "968\n",
      "it is a part i suppose of the urban middle - class northern european dream – the pursuit of the sun by day and silence by night\n",
      "Cela fait partie je crois du rêve des classes moyennes urbaines du nord de l' Europe : le soleil pendant la journée et le silence la nuit .\n",
      "\n",
      "8047\n",
      "thank you mr provan\n",
      "Merci , Monsieur Provan .\n",
      "\n",
      "10619\n",
      "the foundation has been laid for creating a common european energy market based on rules set out in detail in the binding network codes\n",
      "Les fondations d' un marché commun européen de l' énergie , basé sur des règles dont les détails sont fixés dans des codes de réseau contraignants , ont été posées .\n",
      "\n",
      "3964\n",
      "there was not a flashlight not a lantern not a candle -- pitch black\n",
      "il n' y avait pas de lampes de poche , pas une lanterne , pas une bougie . Noir total .\n",
      "\n",
      "1260\n",
      "it is therefore a problem for society as a whole\n",
      "La société est donc concernée dans son ensemble .\n",
      "\n"
     ]
    }
   ],
   "source": [
    "# Random print\n",
    "idx = np.random.choice(len(eng_data),size=5)\n",
    "for i in idx:\n",
    "    print(i)\n",
    "    print(eng_data[i].rstrip())\n",
    "    print(fr_data[i])"
   ]
  },
  {
   "cell_type": "markdown",
   "metadata": {},
   "source": [
    "1) Remove spaces between number or numbers with ',' or '.' in between  \n",
    "2) Replace numbers with tokens  \n",
    "3) words begining with caps  \n",
    "4) words in caps  "
   ]
  },
  {
   "cell_type": "code",
   "execution_count": 252,
   "metadata": {},
   "outputs": [],
   "source": [
    "eng_count,fr_count = [],[]\n",
    "for i,(eng,fr) in enumerate(zip(eng_data,fr_data)):\n",
    "    eng_count.append(len(eng.rstrip().split(\" \")))\n",
    "    fr_count.append(len(fr.rstrip().split(\" \"))) "
   ]
  },
  {
   "cell_type": "code",
   "execution_count": 253,
   "metadata": {},
   "outputs": [
    {
     "data": {
      "text/plain": [
       "(95, 112)"
      ]
     },
     "execution_count": 253,
     "metadata": {},
     "output_type": "execute_result"
    }
   ],
   "source": [
    "max(eng_count),max(fr_count)"
   ]
  },
  {
   "cell_type": "code",
   "execution_count": 255,
   "metadata": {},
   "outputs": [
    {
     "data": {
      "image/png": "[encoded data removed]",
      "text/plain": [
       "<Figure size 432x288 with 1 Axes>"
      ]
     },
     "metadata": {
      "needs_background": "light"
     },
     "output_type": "display_data"
    }
   ],
   "source": [
    "plt.hist(eng_count,bins=50)\n",
    "plt.show()"
   ]
  },
  {
   "cell_type": "code",
   "execution_count": 256,
   "metadata": {},
   "outputs": [
    {
     "data": {
      "image/png": "[encoded data removed]",
      "text/plain": [
       "<Figure size 432x288 with 1 Axes>"
      ]
     },
     "metadata": {
      "needs_background": "light"
     },
     "output_type": "display_data"
    }
   ],
   "source": [
    "plt.hist(fr_count,bins=50)\n",
    "plt.show()"
   ]
  },
  {
   "cell_type": "code",
   "execution_count": 572,
   "metadata": {},
   "outputs": [],
   "source": [
    "class ExtraProcessing():\n",
    "    \n",
    "    def __init__(self):\n",
    "        self.BOS,self.EOS,self.TK_MAJ,self.TK_UP,self.TK_NUM = 'xxstart', 'xxend', 'xxmaj','xxup', 'xxnum'\n",
    "        \n",
    "    def regx(self,x):\n",
    "        # Remove space, comma or point  between numbers\n",
    "        x = re.sub(r\"(\\d+)[\\s+|,|.](\\d+)\",r\"\\1\\2\",x)\n",
    "        \n",
    "        # enumerate for number tokens\n",
    "        #numerate = lambda m, i=iter(range(10)):f\"{self.TK_NUM}_{str(next(i))}\"\n",
    "        \n",
    "        # Replace numbers with TK_NUM\n",
    "        x = re.sub(\"\\d+\",self.TK_NUM,x)\n",
    "        # Remove some punctuation\n",
    "        PUNCT = '#&\\()*+/<=>@[\\\\]^_{|}~'\n",
    "        table = str.maketrans(\"\",\"\",PUNCT)\n",
    "        x = x.translate(table)\n",
    "        x = re.sub(\"\\.\\.+\",\"\",x)\n",
    "        # Add space between '-' and words\n",
    "        x = re.sub(r\"(-)(\\w)\",r\"\\1 \\2\",x)\n",
    "        x = re.sub(r\"(\\w)(-)\",r\"\\1 \\2\",x)\n",
    "        # Remove unecessary space\n",
    "        x = re.sub(\"\\s\\s+\",\" \",x)\n",
    "        return x\n",
    "        \n",
    "    def start_end(self,x):\n",
    "        x.insert(0,self.BOS)\n",
    "        x.append(self.EOS)\n",
    "        return x\n",
    "        \n",
    "    def replace_all_caps(self,x):\n",
    "        \"Replace tokens in ALL CAPS in `x` by their lower version and add `TK_UP` before.\"\n",
    "        res = []\n",
    "        for t in x:\n",
    "            if t.isupper() and len(t) > 1: res.append(self.TK_UP); res.append(t.lower())\n",
    "            else: res.append(t)\n",
    "        return res\n",
    "\n",
    "    def deal_caps(self,x):\n",
    "        \"Replace all Capitalized tokens in `x` by their lower version and add `TK_MAJ` before.\"\n",
    "        res = []\n",
    "        for t in x:\n",
    "            if t == '': continue\n",
    "            if t[0].isupper() and len(t) > 1 and (t[1:].islower() or (t[1] == \"’\" or t[1] == \"'\" )): \n",
    "                res.append(self.TK_MAJ)\n",
    "            res.append(t.lower())\n",
    "        return res\n",
    "    \n",
    "    def process(self,x):\n",
    "        x = self.regx(x.strip())\n",
    "        x = x.split()\n",
    "        post = [self.deal_caps,self.replace_all_caps,self.start_end]\n",
    "        for p in post:\n",
    "            x = p(x)\n",
    "        return ' '.join(x)"
   ]
  },
  {
   "cell_type": "code",
   "execution_count": 573,
   "metadata": {},
   "outputs": [],
   "source": [
    "ex = ExtraProcessing()"
   ]
  },
  {
   "cell_type": "code",
   "execution_count": 574,
   "metadata": {},
   "outputs": [],
   "source": [
    "all_fr = []\n",
    "for fr_sent in fr_data:\n",
    "    all_fr.append(ex.process(fr_sent))\n",
    "    \n",
    "all_eng = []\n",
    "for eng_sent in eng_data:\n",
    "    all_eng.append(ex.process(eng_sent))"
   ]
  },
  {
   "cell_type": "code",
   "execution_count": 575,
   "metadata": {},
   "outputs": [
    {
     "name": "stdout",
     "output_type": "stream",
     "text": [
      "3136\n",
      "xxstart actually you know that old philosophical thing if a tree falls in a forest and nobody hears it did it happen remember that old chestnut xxend\n",
      "xxstart xxmaj en fait , vous savez cette vieille histoire philosophique , si un arbre tombe dans la forêt et personne ne l' entend est - ce que c' est arrivé ? xxmaj vous vous rappelez cette histoire ? xxend\n",
      "3609\n",
      "xxstart i am a pro - european i have always been one and i will remain one xxend\n",
      "xxstart xxmaj je suis pro - européen ; je l’ ai toujours été et je le resterai . xxend\n",
      "5031\n",
      "xxstart the majority of the world ’s malnourished children live in india xxend\n",
      "xxstart xxmaj c’ est en xxmaj inde que vit la majorité des enfants qui souffrent de malnutrition dans le monde . xxend\n",
      "1257\n",
      "xxstart used to be there were two mustards french 's and gulden 's xxend\n",
      "xxstart xxmaj on était habitué à deux types de moutardes . xxmaj la xxmaj french et la xxmaj gulden . xxend\n",
      "10322\n",
      "xxstart most importantly we would not have to allow children to be separated from one of their parents xxend\n",
      "xxstart xxmaj plus important , nous n' aurions pas à tolérer que les enfants soient séparés de l' un de leurs parents . xxend\n"
     ]
    }
   ],
   "source": [
    "# Random print\n",
    "idx = np.random.choice(len(eng_data),size=5)\n",
    "for i in idx:\n",
    "    print(i)\n",
    "    print(all_eng[i])\n",
    "    print(all_fr[i])"
   ]
  }
 ],
 "metadata": {
  "kernelspec": {
   "display_name": "gpu-env",
   "language": "python",
   "name": "gpu-env"
  },
  "language_info": {
   "codemirror_mode": {
    "name": "ipython",
    "version": 3
   },
   "file_extension": ".py",
   "mimetype": "text/x-python",
   "name": "python",
   "nbconvert_exporter": "python",
   "pygments_lexer": "ipython3",
   "version": "3.7.4"
  }
 },
 "nbformat": 4,
 "nbformat_minor": 4
}
